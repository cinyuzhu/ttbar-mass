{
 "cells": [
  {
   "cell_type": "markdown",
   "metadata": {},
   "source": [
    "# Target: \n",
    "\n",
    "get m_bl *best pair* with *dR match*\n",
    "\n",
    "considering the ttbar is a back to back event, the bl originate from the same top should have smaller angle\n"
   ]
  },
  {
   "cell_type": "code",
   "execution_count": 2,
   "metadata": {},
   "outputs": [],
   "source": [
    "import sys, os\n",
    "sys.path.append(os.path.abspath(\"/afs/desy.de/user/z/zhuxinyu/public/mass_reco/\"))\n",
    "import numpy as np\n",
    "import ROOT\n",
    "from ROOT import TCanvas, TLegend, TFile, TPaveLabel, TPaveText, TTree, TLorentzVector, TH1D, TVectorT, gStyle, THStack, gPad, TH2D\n",
    "from ROOT import gROOT\n",
    "import helper\n"
   ]
  },
  {
   "cell_type": "code",
   "execution_count": 2,
   "metadata": {},
   "outputs": [
    {
     "name": "stdout",
     "output_type": "stream",
     "text": [
      "258576 4580000\n"
     ]
    }
   ],
   "source": [
    "# 1. get tfile\n",
    "filename = \"user.cgarvey.32744802._000002.output.root\"\n",
    "file = TFile(filename)\n",
    "# 2. get ttree\n",
    "nominal = file.Get(\"nominal\")\n",
    "truth = file.Get(\"truth\")\n",
    "print(nominal.GetEntries(), truth.GetEntries())"
   ]
  },
  {
   "cell_type": "code",
   "execution_count": 3,
   "metadata": {},
   "outputs": [],
   "source": [
    "m_bl_truth = TH1D (\"m_bl \",\"invariant mass of bl pair by truth match\" ,50 ,0 ,300)\n",
    "m_bl_drmatch = TH1D (\"m_bl_drmatch\",\"invariant mass of bl pair by rmatch\" ,50 ,0 ,300)"
   ]
  },
  {
   "cell_type": "code",
   "execution_count": 4,
   "metadata": {},
   "outputs": [],
   "source": [
    "# reset the TH1 before starting fill, so that previous running of this cell won't affect the result\n",
    "m_bl_truth.Reset()\n",
    "m_bl_drmatch.Reset()"
   ]
  },
  {
   "cell_type": "markdown",
   "metadata": {},
   "source": [
    "# truth match"
   ]
  },
  {
   "cell_type": "code",
   "execution_count": 5,
   "metadata": {},
   "outputs": [
    {
     "name": "stdout",
     "output_type": "stream",
     "text": [
      "total event:  22962 , matched event:  18351 , correct: 9730\n"
     ]
    }
   ],
   "source": [
    "nentry = 0\n",
    "valid = 0\n",
    "matched = 0\n",
    "nominal.GetEntry(nentry)\n",
    "nnumber = getattr(nominal, \"eventNumber\")\n",
    "# for n in range(truth.GetEntries()):\n",
    "for n in range(400000):\n",
    "    truth.GetEntry(n)\n",
    "    tnumber = getattr(truth, \"eventNumber\")\n",
    "    if tnumber == nnumber:\n",
    "        #####################################################\n",
    "        ############# start analysis from here ##############\n",
    "        #####################################################\n",
    "        # construct p4 vector \n",
    "        ## truth level llbb\n",
    "        p4s_truth_b = []\n",
    "        p4s_truth_b.append(helper.p4_from_pt_eta_phi_m(truth, \"MC_b_from_t\"))\n",
    "        p4s_truth_b.append(helper.p4_from_pt_eta_phi_m(truth, \"MC_b_from_tbar\"))\n",
    "        # first element from t, second element from tbar\n",
    "        ## lepton (el/mu/tau)\n",
    "        prefixes = ['MC_Wdecay1_from_t', 'MC_Wdecay2_from_t', 'MC_Wdecay1_from_tbar','MC_Wdecay2_from_tbar']\n",
    "        p4s_truth_lep = helper.get_leptons_from_truth(prefixes, truth)\n",
    "        ## nominal level llbb (same as in minimax_lb.ipynb)\n",
    "        p4s_lep = helper.GetLorenzP4List(nominal, 'lep')\n",
    "        p4s_bjet = helper.GetLorenzP4List(nominal,'bjet')\n",
    "        #------------------------------------------------------------------#\n",
    "\n",
    "        # dR match p4 vector: p4s_lep vs p4s_truth_lep; p4s_bjet vs p4s_truth_b\n",
    "        ## arrange the p4s as [from_b , from_bbar]\n",
    "        if len(p4s_truth_lep)*len(p4s_lep)*len(p4s_truth_b)*len(p4s_bjet) == 0:\n",
    "            nentry += 1\n",
    "            nominal.GetEntry(nentry)\n",
    "            nnumber = getattr(nominal, \"eventNumber\")\n",
    "            continue\n",
    "        \n",
    "        p4s_match_lep = helper.deltaR_match(p4s_truth_lep, p4s_lep, 0.4)\n",
    "        p4s_match_bjet = helper.deltaR_match(p4s_truth_b, p4s_bjet, 0.4)\n",
    "        \n",
    "        #------------------------------------------------------------------#\n",
    "        # if one of the match failed, return a empty list []\n",
    "        if len(p4s_match_lep)*len(p4s_match_bjet) != 0 :\n",
    "\n",
    "            # draw the correct combination\n",
    "            valid += 1 # for event that found the correct combination\n",
    "            m1 = (p4s_match_lep[0] + p4s_match_bjet[0]).M()/1000\n",
    "            m2 = (p4s_match_lep[1] + p4s_match_bjet[1]).M()/1000\n",
    "            \n",
    "            ## bl_dR_min pair\n",
    "            if len(p4s_lep) ==2 and len(p4s_bjet) == 2:\n",
    "                p4s_bjet_matched = helper.deltaR_match(p4s_lep, p4s_bjet, 100)\n",
    "                if (len(p4s_bjet_matched)) != 2: \n",
    "                    nentry += 1\n",
    "                    nominal.GetEntry(nentry)\n",
    "                    nnumber = getattr(nominal, \"eventNumber\")\n",
    "                    continue\n",
    "                # draw the correct combination\n",
    "                # fill hist\n",
    "                m_bl_drmatch.Fill((p4s_lep[0]+p4s_bjet_matched[0]).M()/1000)\n",
    "                m_bl_drmatch.Fill((p4s_lep[1]+p4s_bjet_matched[1]).M()/1000)\n",
    "                m_bl_truth.Fill(m1)\n",
    "                m_bl_truth.Fill(m2)\n",
    "\n",
    "                # check if is correct:\n",
    "                for k in [0, 1]:\n",
    "                    dR1 = ROOT.Math.VectorUtil.DeltaR(p4s_lep[0],p4s_match_lep[k])\n",
    "                    dR2 = ROOT.Math.VectorUtil.DeltaR(p4s_bjet_matched[0],p4s_match_bjet[k])\n",
    "                    if dR1 < 0.00001 and dR2 < 0.00001:\n",
    "                        matched += 1\n",
    "                        break\n",
    "\n",
    "\n",
    "\n",
    "\n",
    "        #####################################################\n",
    "        ############# end analysis from here ################\n",
    "        #####################################################\n",
    "        nentry += 1\n",
    "        nominal.GetEntry(nentry)\n",
    "        nnumber = getattr(nominal, \"eventNumber\")\n",
    "        \n",
    "print(\"total event: \", nentry, \", matched event: \", valid, \", correct:\", matched)\n"
   ]
  },
  {
   "cell_type": "code",
   "execution_count": 9,
   "metadata": {},
   "outputs": [
    {
     "name": "stdout",
     "output_type": "stream",
     "text": [
      "24038.0 24050.0\n"
     ]
    },
    {
     "name": "stderr",
     "output_type": "stream",
     "text": [
      "Warning in <TCanvas::Constructor>: Deleting canvas with same name: c1\n"
     ]
    },
    {
     "data": {
      "image/png": "[encoded data removed]",
      "text/plain": [
       "<IPython.core.display.Image object>"
      ]
     },
     "metadata": {},
     "output_type": "display_data"
    }
   ],
   "source": [
    "c1 = TCanvas('c1', 'canvas1', 0, 0, 800, 600 )\n",
    "\n",
    "m_bl_drmatch.SetLineColorAlpha(2, 1)\n",
    "m_bl_drmatch.Draw()\n",
    "m_bl_drmatch.GetXaxis().SetTitle(\"M_bl\")\n",
    "m_bl_drmatch.SetMaximum(2000)\n",
    "m_bl_truth.Draw('same')\n",
    "\n",
    "leg = TLegend(0.6,0.6,0.9,0.77)\n",
    "leg.AddEntry(m_bl_truth,\"m_bl (truth match)\", \"l\")\n",
    "leg.AddEntry(m_bl_drmatch,\"m_bl drmatch\", \"l\")\n",
    "leg.Draw()\n",
    "\n",
    "c1.Draw()\n",
    "\n",
    "print(m_bl_drmatch.GetEntries(), m_bl_truth.GetEntries())"
   ]
  },
  {
   "cell_type": "markdown",
   "metadata": {},
   "source": [
    "# analysis events"
   ]
  },
  {
   "cell_type": "code",
   "execution_count": 13,
   "metadata": {},
   "outputs": [
    {
     "name": "stdout",
     "output_type": "stream",
     "text": [
      "3.5533016566229727  ,  1.2962476288192613\n",
      "1.2962476288192613\n",
      "3.881414546524842  ,  1.003948767543548\n",
      "1.003948767543548\n",
      "0.8361137770591017  ,  2.1077962163347954\n",
      "0.8361137770591017\n",
      "0.700519569845148  ,  2.664717204477434\n",
      "0.700519569845148\n",
      "2.580223141312856  ,  0.5823628130590897\n",
      "0.5823628130590897\n",
      "3.049261856770565  ,  1.988635392129713\n",
      "1.988635392129713\n"
     ]
    }
   ],
   "source": [
    "# for n in range(nominal.GetEntries()):\n",
    "for n in range(10):\n",
    "    nominal.GetEntry(n)\n",
    "    p4s_lep = helper.GetLorenzP4List(nominal,'lep')\n",
    "    p4s_bjet = helper.GetLorenzP4List(nominal,'bjet')\n",
    "    if len(p4s_lep) != 2 or len(p4s_bjet) != 2: continue\n",
    "    \n",
    "    # match the l & b\n",
    "    p4s_bjet_matched = helper.deltaR_match(p4s_lep, p4s_bjet, 100)\n",
    "    if (len(p4s_bjet_matched)) != 2: continue\n",
    "    # print(n, ROOT.Math.VectorUtil.DeltaR(p4s_lep[0], p4s_bjet_matched[0]), ROOT.Math.VectorUtil.DeltaR(p4s_lep[1], p4s_bjet_matched[1]))\n",
    "    m_bl_truth.Fill((p4s_lep[0]+p4s_bjet_matched[0]).M()/1000)\n",
    "    m_bl_truth.Fill((p4s_lep[1]+p4s_bjet_matched[1]).M()/1000)\n",
    "    print(ROOT.Math.VectorUtil.DeltaR(p4s_lep[0], p4s_bjet[0]),\" , \", ROOT.Math.VectorUtil.DeltaR(p4s_lep[0], p4s_bjet[1]))\n",
    "    print(ROOT.Math.VectorUtil.DeltaR(p4s_lep[0], p4s_bjet_matched[0]))\n"
   ]
  },
  {
   "cell_type": "markdown",
   "metadata": {},
   "source": [
    "# plot"
   ]
  },
  {
   "cell_type": "code",
   "execution_count": 8,
   "metadata": {},
   "outputs": [
    {
     "name": "stderr",
     "output_type": "stream",
     "text": [
      "Warning in <TCanvas::Constructor>: Deleting canvas with same name: c1\n"
     ]
    },
    {
     "data": {
      "image/png": "[encoded data removed]",
      "text/plain": [
       "<IPython.core.display.Image object>"
      ]
     },
     "metadata": {},
     "output_type": "display_data"
    }
   ],
   "source": [
    "c1 = TCanvas('c1', 'canvas1', 0, 0, 800, 600 )\n",
    "gStyle.SetOptStat(0)\n",
    "m_bl_truth.Draw()\n",
    "c1.Draw()"
   ]
  },
  {
   "cell_type": "code",
   "execution_count": null,
   "metadata": {},
   "outputs": [],
   "source": []
  }
 ],
 "metadata": {
  "kernelspec": {
   "display_name": "Python 3",
   "language": "python",
   "name": "python3"
  },
  "language_info": {
   "codemirror_mode": {
    "name": "ipython",
    "version": 3
   },
   "file_extension": ".py",
   "mimetype": "text/x-python",
   "name": "python",
   "nbconvert_exporter": "python",
   "pygments_lexer": "ipython3",
   "version": "3.6.8"
  },
  "orig_nbformat": 4
 },
 "nbformat": 4,
 "nbformat_minor": 2
}
