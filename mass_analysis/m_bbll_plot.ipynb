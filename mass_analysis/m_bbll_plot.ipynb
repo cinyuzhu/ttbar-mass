{
 "cells": [
  {
   "cell_type": "markdown",
   "metadata": {},
   "source": [
    "# target\n",
    "\n",
    "compare truth level info with nominal\n",
    "\n",
    "1. event number match\n",
    "\n",
    "2. p4 vector dR match (bbll)"
   ]
  },
  {
   "cell_type": "code",
   "execution_count": 1,
   "metadata": {},
   "outputs": [
    {
     "name": "stdout",
     "output_type": "stream",
     "text": [
      "Welcome to JupyROOT 6.24/08\n"
     ]
    }
   ],
   "source": [
    "import sys, os\n",
    "sys.path.append(os.path.abspath(\"/afs/desy.de/user/z/zhuxinyu/public/mass_reco/\"))\n",
    "import numpy as np\n",
    "import ROOT\n",
    "from ROOT import TCanvas, TLegend, TFile, TPaveLabel, TPaveText, TTree, TLorentzVector, TH1D, TVectorT, gStyle, THStack, gPad, TH2D\n",
    "from ROOT import gROOT\n",
    "import helper"
   ]
  },
  {
   "cell_type": "code",
   "execution_count": 2,
   "metadata": {},
   "outputs": [
    {
     "name": "stdout",
     "output_type": "stream",
     "text": [
      "258576 4580000\n"
     ]
    }
   ],
   "source": [
    "# 1. get tfile\n",
    "filename = \"user.cgarvey.32744802._000002.output.root\"\n",
    "file = TFile(filename)\n",
    "# 2. get ttree\n",
    "nominal = file.Get(\"nominal\")\n",
    "truth = file.Get(\"truth\")\n",
    "print(nominal.GetEntries(), truth.GetEntries())"
   ]
  },
  {
   "cell_type": "code",
   "execution_count": 3,
   "metadata": {},
   "outputs": [],
   "source": [
    "m_bbll_truth = TH1D (\"m_bbll_truth \",\"invariant mass of bbll in truth level\" ,50 ,0 ,700)\n",
    "m_bbll_reco = TH1D (\"m_bbll_reco \",\"invariant mass of bbll in reco level\" ,50 ,0 ,700)\n",
    "\n",
    "m_bbee = TH1D (\"m_bbee \",\"invariant mass of bbee\" , 50 ,100 ,700)\n",
    "m_bbme = TH1D (\"m_bbml \",\"invariant mass of bbme\" , 50 ,100 ,700)\n",
    "m_bbmm = TH1D (\"m_bbmm \",\"invariant mass of bbee\" , 50 ,100 ,700)"
   ]
  },
  {
   "cell_type": "code",
   "execution_count": 4,
   "metadata": {},
   "outputs": [
    {
     "name": "stdout",
     "output_type": "stream",
     "text": [
      "2203\n"
     ]
    }
   ],
   "source": [
    "# event match\n",
    "nentry = 0\n",
    "nominal.GetEntry(nentry)\n",
    "nnumber = getattr(nominal, \"eventNumber\")\n",
    "# for n in range(truth.GetEntries()):\n",
    "for n in range(40000):\n",
    "    truth.GetEntry(n)\n",
    "    tnumber = getattr(truth, \"eventNumber\")\n",
    "    if tnumber == nnumber:\n",
    "        #####################################################\n",
    "        ############# start analysis from here ##############\n",
    "        #####################################################\n",
    "        # construct p4 vector \n",
    "        ## truth level llbb\n",
    "        # first element from t, second element from tbar\n",
    "        p4s_truth_b = []\n",
    "        p4s_truth_b.append(helper.p4_from_pt_eta_phi_m(truth, \"MC_b_from_t\"))\n",
    "        p4s_truth_b.append(helper.p4_from_pt_eta_phi_m(truth, \"MC_b_from_tbar\"))\n",
    "        ## lepton (el/mu/tau)\n",
    "        prefixes = ['MC_Wdecay1_from_t', 'MC_Wdecay2_from_t', 'MC_Wdecay1_from_tbar','MC_Wdecay2_from_tbar']\n",
    "        p4s_truth_lep = helper.get_leptons_from_truth(prefixes, truth)\n",
    "\n",
    "        if len(p4s_truth_b) != 2 or len(p4s_truth_lep) != 2: \n",
    "            nentry += 1\n",
    "            nominal.GetEntry(nentry)\n",
    "            nnumber = getattr(nominal, \"eventNumber\")\n",
    "            continue\n",
    "\n",
    "        \n",
    "\n",
    "            \n",
    "        ## nominal level llbb (same as in minimax_lb.ipynb)\n",
    "        p4s_el = helper.GetLorenzP4List(nominal,'el')\n",
    "        p4s_mu = helper.GetLorenzP4List(nominal,'mu')\n",
    "        p4s_lep = helper.getp4s_lep(p4s_el, p4s_mu)\n",
    "        p4s_bjet = helper.GetLorenzP4List(nominal,'bjet')\n",
    "\n",
    "        if len(p4s_lep) != 2 or len(p4s_bjet) != 2: \n",
    "            nentry += 1\n",
    "            nominal.GetEntry(nentry)\n",
    "            nnumber = getattr(nominal, \"eventNumber\")\n",
    "            continue\n",
    "        \n",
    "        \n",
    "        # elel = 1, elmu = 2, mumu = 3, invalid event = 0\n",
    "        if helper.W_to_which(p4s_el, p4s_mu) == 1:\n",
    "            p4sys = p4s_el[0]+p4s_el[1]+p4s_bjet[0]+p4s_bjet[1]\n",
    "            m_bbee.Fill(p4sys.M()/1000) # in GeV\n",
    "            p4_bbll_truth = p4s_truth_b[0]+p4s_truth_b[1]+ p4s_truth_lep[0]+p4s_truth_lep[1]\n",
    "            m_bbll_truth.Fill(p4_bbll_truth.M()/1000)\n",
    "\n",
    "        elif helper.W_to_which(p4s_el, p4s_mu) == 2:\n",
    "            p4sys = p4s_el[0]+p4s_mu[0]+p4s_bjet[0]+p4s_bjet[1]\n",
    "            m_bbme.Fill(p4sys.M()/1000)\n",
    "            p4_bbll_truth = p4s_truth_b[0]+p4s_truth_b[1]+ p4s_truth_lep[0]+p4s_truth_lep[1]\n",
    "            m_bbll_truth.Fill(p4_bbll_truth.M()/1000)\n",
    "\n",
    "        elif helper.W_to_which(p4s_el, p4s_mu) == 3:\n",
    "            p4sys = p4s_mu[0]+p4s_mu[1]+p4s_bjet[0]+p4s_bjet[1]\n",
    "            m_bbmm.Fill(p4sys.M()/1000)\n",
    "            p4_bbll_truth = p4s_truth_b[0]+p4s_truth_b[1]+ p4s_truth_lep[0]+p4s_truth_lep[1]\n",
    "            m_bbll_truth.Fill(p4_bbll_truth.M()/1000)\n",
    "\n",
    "\n",
    "        #####################################################\n",
    "        ############# end analysis from here ################\n",
    "        #####################################################\n",
    "        nentry += 1\n",
    "        nominal.GetEntry(nentry)\n",
    "        nnumber = getattr(nominal, \"eventNumber\")\n",
    "        \n",
    "print(nentry)"
   ]
  },
  {
   "cell_type": "code",
   "execution_count": 7,
   "metadata": {},
   "outputs": [
    {
     "name": "stdout",
     "output_type": "stream",
     "text": [
      "2121.0\n"
     ]
    },
    {
     "data": {
      "text/plain": [
       "401.0"
      ]
     },
     "execution_count": 7,
     "metadata": {},
     "output_type": "execute_result"
    },
    {
     "name": "stderr",
     "output_type": "stream",
     "text": [
      "Warning in <TCanvas::Constructor>: Deleting canvas with same name: c2\n"
     ]
    },
    {
     "data": {
      "image/png": "[encoded data removed]",
      "text/plain": [
       "<IPython.core.display.Image object>"
      ]
     },
     "metadata": {},
     "output_type": "display_data"
    }
   ],
   "source": [
    "c2 = TCanvas('c2', 'canvas2', 0, 0, 800, 600 )\n",
    "gStyle.SetOptStat(1)\n",
    "\n",
    "hs = THStack(\"hs\", \"stacked m_bbll\")\n",
    "hs.Clear()\n",
    "\n",
    "m_bbme.SetLineColor(ROOT.kRed)\n",
    "m_bbme.SetFillColorAlpha(ROOT.kRed,0.5)\n",
    "m_bbmm.SetLineColor(ROOT.kYellow)\n",
    "m_bbmm.SetFillColorAlpha(ROOT.kYellow,0.5)\n",
    "m_bbee.SetLineColor(ROOT.kBlue)\n",
    "m_bbee.SetFillColorAlpha(ROOT.kBlue,0.5)\n",
    "m_bbll_truth.SetLineColor(ROOT.kBlack)\n",
    "m_bbll_truth.SetFillColorAlpha(ROOT.kBlack,0)\n",
    "m_bbll_truth.SetLineWidth(2)\n",
    "\n",
    "\n",
    "hs.Add(m_bbme)\n",
    "hs.Add(m_bbmm)\n",
    "hs.Add(m_bbee)\n",
    "\n",
    "hs.Draw()\n",
    "m_bbll_truth.Draw(\"same\")\n",
    "hs.SetMaximum(150)\n",
    "\n",
    "\n",
    "\n",
    "leg2 = TLegend(0.6,0.5,0.8,0.7)\n",
    "leg2.AddEntry(m_bbee,\"m_bbee_reco\",\"f\")\n",
    "leg2.AddEntry(m_bbmm,\"m_bbmm_reco\",\"f\")\n",
    "leg2.AddEntry(m_bbme,\"m_bbme_reco\",\"f\")\n",
    "leg2.AddEntry(m_bbll_truth, \"m_bbll_truth\",\"l\")\n",
    "leg2.Draw()\n",
    "\n",
    "c2.Draw()\n",
    "\n",
    "print(m_bbll_truth.GetEntries())\n",
    "m_bbee.GetEntries()\n",
    "#  + m_bbme.GetEntries() + m_bbmm.GetEntries() "
   ]
  },
  {
   "cell_type": "code",
   "execution_count": null,
   "metadata": {},
   "outputs": [],
   "source": []
  }
 ],
 "metadata": {
  "kernelspec": {
   "display_name": "Python 3",
   "language": "python",
   "name": "python3"
  },
  "language_info": {
   "codemirror_mode": {
    "name": "ipython",
    "version": 3
   },
   "file_extension": ".py",
   "mimetype": "text/x-python",
   "name": "python",
   "nbconvert_exporter": "python",
   "pygments_lexer": "ipython3",
   "version": "3.6.8"
  },
  "orig_nbformat": 4
 },
 "nbformat": 4,
 "nbformat_minor": 2
}
