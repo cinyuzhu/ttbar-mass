{
 "cells": [
  {
   "cell_type": "code",
   "execution_count": 1,
   "metadata": {},
   "outputs": [],
   "source": [
    "# correlation of m_bl^minimax with truth (t)"
   ]
  },
  {
   "cell_type": "code",
   "execution_count": 2,
   "metadata": {},
   "outputs": [
    {
     "name": "stdout",
     "output_type": "stream",
     "text": [
      "Welcome to JupyROOT 6.24/08\n"
     ]
    }
   ],
   "source": [
    "import sys, os\n",
    "sys.path.append(os.path.abspath(\"/afs/desy.de/user/z/zhuxinyu/public/mass_reco/\"))\n",
    "import numpy as np\n",
    "import ROOT\n",
    "from ROOT import TCanvas, TLegend, TFile, TPaveLabel, TPaveText, TTree, TLorentzVector, TH1D, TVectorT, gStyle, THStack, gPad, TH2D\n",
    "from ROOT import gROOT\n",
    "import helper\n",
    "import math\n",
    "import time\n",
    "start_time = time.time()\n"
   ]
  },
  {
   "cell_type": "code",
   "execution_count": 3,
   "metadata": {},
   "outputs": [],
   "source": [
    "file = TFile(\"../output.root\")\n",
    "tree = file.Get(\"nominal\")"
   ]
  },
  {
   "cell_type": "code",
   "execution_count": 4,
   "metadata": {},
   "outputs": [],
   "source": [
    "m_bl1D = TH1D (\"m_bl \",\"invariant mass of bl pair by truth match\" ,50 ,0 ,300)\n",
    "m_bl1D_minimax = TH1D (\"m_bl_minimax\",\"invariant mass of bl pair by minimax\" ,50 ,0 ,300)\n",
    "# 2D hists\n",
    "bl_t = TH2D(\"bl_t\", \"mass of bl_{minimax}^{reco} vs bl^{truth}\", 50, 0, 180, 50, 0 ,180)"
   ]
  },
  {
   "cell_type": "code",
   "execution_count": 5,
   "metadata": {},
   "outputs": [
    {
     "name": "stdout",
     "output_type": "stream",
     "text": [
      "event: 0 --- 0.37 seconds ---\n",
      "event: 10000 --- 12.46 seconds ---\n",
      "event: 20000 --- 23.79 seconds ---\n",
      "event: 30000 --- 35.10 seconds ---\n",
      "event: 40000 --- 46.43 seconds ---\n",
      "event: 50000 --- 57.89 seconds ---\n",
      "event: 60000 --- 69.32 seconds ---\n",
      "event: 70000 --- 80.79 seconds ---\n",
      "event: 80000 --- 92.46 seconds ---\n",
      "event: 90000 --- 103.85 seconds ---\n",
      "event: 100000 --- 115.19 seconds ---\n",
      "event: 110000 --- 126.61 seconds ---\n",
      "event: 120000 --- 138.32 seconds ---\n",
      "event: 130000 --- 149.70 seconds ---\n",
      "event: 140000 --- 161.06 seconds ---\n",
      "event: 150000 --- 172.57 seconds ---\n",
      "event: 160000 --- 184.19 seconds ---\n",
      "event: 170000 --- 195.83 seconds ---\n",
      "event: 180000 --- 207.31 seconds ---\n",
      "event: 190000 --- 218.45 seconds ---\n",
      "event: 200000 --- 229.63 seconds ---\n",
      "event: 210000 --- 241.06 seconds ---\n",
      "event: 220000 --- 252.65 seconds ---\n",
      "event: 230000 --- 264.01 seconds ---\n",
      "event: 240000 --- 275.58 seconds ---\n"
     ]
    }
   ],
   "source": [
    "# for n in range(tree.GetEntries()):\n",
    "for n in range(250000):\n",
    "    if (not(n % 10000)): \n",
    "        print(\"event:\", n, \"--- %.2f seconds ---\" % (time.time() - start_time))\n",
    "\n",
    "    tree.GetEntry(n)\n",
    "    # construct p4 vector \n",
    "    ## truth level llbb\n",
    "    p4s_truth_b = []\n",
    "    p4s_truth_b.append(helper.p4_from_pt_eta_phi_m(tree, \"MC_b_from_t\"))\n",
    "    p4s_truth_b.append(helper.p4_from_pt_eta_phi_m(tree, \"MC_b_from_tbar\"))\n",
    "    # first element from t, second element from tbar\n",
    "    ## lepton (el/mu/tau)\n",
    "    prefixes = ['MC_Wdecay1_from_t', 'MC_Wdecay2_from_t', 'MC_Wdecay1_from_tbar','MC_Wdecay2_from_tbar']\n",
    "    p4s_truth_lep = helper.get_leptons_from_truth(prefixes, tree)\n",
    "    ## nominal level llbb (same as in minimax_lb.ipynb)\n",
    "    p4s_lep = helper.GetLorenzP4List(tree, 'lep')\n",
    "    p4s_bjet = helper.GetLorenzP4List(tree,'bjet')\n",
    "\n",
    "    #------------------------------------------------------------------#\n",
    "\n",
    "    # dR match p4 vector: p4s_lep vs p4s_truth_lep; p4s_bjet vs p4s_truth_b\n",
    "    ## arrange the p4s as [from_b , from_bbar]\n",
    "    if len(p4s_truth_lep)*len(p4s_lep)*len(p4s_truth_b)*len(p4s_bjet) == 0: continue\n",
    "    p4s_match_lep = helper.deltaR_match(p4s_truth_lep, p4s_lep, 0.4)\n",
    "    p4s_match_bjet = helper.deltaR_match(p4s_truth_b, p4s_bjet, 0.4)\n",
    "\n",
    "    if len(p4s_match_lep)*len(p4s_match_bjet) != 0 :\n",
    "\n",
    "        # draw the correct combination\n",
    "        m1 = (p4s_match_lep[0] + p4s_match_bjet[0]).M()/1000\n",
    "        m2 = (p4s_match_lep[1] + p4s_match_bjet[1]).M()/1000\n",
    "        m_bl1D.Fill(m1)\n",
    "        m_bl1D.Fill(m2)\n",
    "\n",
    "        ## minimax\n",
    "        if len(p4s_lep) ==2 and len(p4s_bjet) == 2:\n",
    "            idx_l, idx_b = helper.minimax_cross(p4s_lep, p4s_bjet)\n",
    "            m_bl1D_minimax.Fill((p4s_lep[idx_l] + p4s_bjet[idx_b]).M()/1000)\n",
    "            m_bl1D_minimax.Fill((p4s_lep[1 - idx_l] + p4s_bjet[1 - idx_b]).M()/1000)\n",
    "\n",
    "\n"
   ]
  },
  {
   "cell_type": "code",
   "execution_count": 8,
   "metadata": {},
   "outputs": [
    {
     "name": "stderr",
     "output_type": "stream",
     "text": [
      "Warning in <TCanvas::Constructor>: Deleting canvas with same name: c2\n"
     ]
    },
    {
     "data": {
      "image/png": "[encoded data removed]",
      "text/plain": [
       "<IPython.core.display.Image object>"
      ]
     },
     "metadata": {},
     "output_type": "display_data"
    }
   ],
   "source": [
    "c2 = TCanvas('c2', 'canvas2', 0, 0, 800, 600 )\n",
    "\n",
    "bl_t.Draw(\"COLZ\")\n",
    "bl_t.SetStats(0)\n",
    "bl_t.GetXaxis().SetTitle(\"m_{bl}^{reco} minimax (GeV)\")\n",
    "bl_t.GetYaxis().SetTitle(\"m_{bl} truth (GeV)\")\n",
    "\n",
    "c2.Draw()"
   ]
  },
  {
   "cell_type": "code",
   "execution_count": null,
   "metadata": {},
   "outputs": [],
   "source": []
  }
 ],
 "metadata": {
  "kernelspec": {
   "display_name": "Python 3",
   "language": "python",
   "name": "python3"
  },
  "language_info": {
   "codemirror_mode": {
    "name": "ipython",
    "version": 3
   },
   "file_extension": ".py",
   "mimetype": "text/x-python",
   "name": "python",
   "nbconvert_exporter": "python",
   "pygments_lexer": "ipython3",
   "version": "3.6.8"
  },
  "orig_nbformat": 4
 },
 "nbformat": 4,
 "nbformat_minor": 2
}
