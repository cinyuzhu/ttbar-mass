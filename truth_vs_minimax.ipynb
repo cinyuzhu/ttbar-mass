{
 "cells": [
  {
   "cell_type": "markdown",
   "metadata": {},
   "source": [
    "# target\n",
    "\n",
    "compare truth level info with nominal\n",
    "\n",
    "1. event number match\n",
    "\n",
    "2. p4 vector dR match (bbll)"
   ]
  },
  {
   "cell_type": "code",
   "execution_count": 1,
   "metadata": {},
   "outputs": [
    {
     "name": "stdout",
     "output_type": "stream",
     "text": [
      "Welcome to JupyROOT 6.24/08\n"
     ]
    }
   ],
   "source": [
    "import os,shutil\n",
    "import numpy as np\n",
    "import ROOT\n",
    "from ROOT import TCanvas, TLegend, TFile, TPaveLabel, TPaveText, TTree, TLorentzVector, TH1D, TVectorT, gStyle, THStack, gPad, TH2D\n",
    "from ROOT import gROOT\n",
    "import helper"
   ]
  },
  {
   "cell_type": "code",
   "execution_count": 2,
   "metadata": {},
   "outputs": [
    {
     "name": "stdout",
     "output_type": "stream",
     "text": [
      "258576 4580000\n"
     ]
    }
   ],
   "source": [
    "# 1. get tfile\n",
    "filename = \"user.cgarvey.32744802._000002.output.root\"\n",
    "file = TFile(filename)\n",
    "# 2. get ttree\n",
    "nominal = file.Get(\"nominal\")\n",
    "truth = file.Get(\"truth\")\n",
    "print(nominal.GetEntries(), truth.GetEntries())"
   ]
  },
  {
   "cell_type": "code",
   "execution_count": 3,
   "metadata": {},
   "outputs": [],
   "source": [
    "eventNumber = TH1D (\"eventNumber \",\"eventNumber\" ,50 ,0,50)\n",
    "m_bl1D = TH1D (\"m_bl \",\"invariant mass of bl pair by truth match\" ,50 ,0 ,250)\n",
    "m_bl2D = TH2D (\"m_bl\", \"masses of two lb pairs\", 50 ,0 ,300, 50 ,0 ,300)\n",
    "m_bl1  = TH1D (\"m_bl1 \",\"invariant mass of bl pair by minimax\" ,50 ,0 ,250)\n",
    "m_bl2  = TH1D (\"m_bl2 \",\"invariant mass of left bl pair\" , 50 ,0 ,250)\n",
    "m_bl1D_minimax = TH1D (\"m_bl_minimax\",\"invariant mass of bl pair by minimax\" ,50 ,0 ,250)"
   ]
  },
  {
   "cell_type": "code",
   "execution_count": 4,
   "metadata": {},
   "outputs": [
    {
     "ename": "ValueError",
     "evalue": "attempt to get argmin of an empty sequence",
     "output_type": "error",
     "traceback": [
      "\u001b[0;31m---------------------------------------------------------------------------\u001b[0m",
      "\u001b[0;31mValueError\u001b[0m                                Traceback (most recent call last)",
      "\u001b[0;32m<ipython-input-4-9f4d1a033b5b>\u001b[0m in \u001b[0;36m<module>\u001b[0;34m\u001b[0m\n\u001b[1;32m     34\u001b[0m         \u001b[0;31m# dR match p4 vector: p4s_lep vs p4s_truth_lep; p4s_bjet vs p4s_truth_b\u001b[0m\u001b[0;34m\u001b[0m\u001b[0;34m\u001b[0m\u001b[0;34m\u001b[0m\u001b[0m\n\u001b[1;32m     35\u001b[0m         \u001b[0;31m## arrange the p4s as [from_b , from_bbar]\u001b[0m\u001b[0;34m\u001b[0m\u001b[0;34m\u001b[0m\u001b[0;34m\u001b[0m\u001b[0m\n\u001b[0;32m---> 36\u001b[0;31m         \u001b[0mp4s_match_lep\u001b[0m \u001b[0;34m=\u001b[0m \u001b[0mhelper\u001b[0m\u001b[0;34m.\u001b[0m\u001b[0mdeltaR_match\u001b[0m\u001b[0;34m(\u001b[0m\u001b[0mp4s_truth_lep\u001b[0m\u001b[0;34m,\u001b[0m \u001b[0mp4s_lep\u001b[0m\u001b[0;34m,\u001b[0m \u001b[0;36m0.4\u001b[0m\u001b[0;34m)\u001b[0m\u001b[0;34m\u001b[0m\u001b[0;34m\u001b[0m\u001b[0m\n\u001b[0m\u001b[1;32m     37\u001b[0m         \u001b[0mp4s_match_bjet\u001b[0m \u001b[0;34m=\u001b[0m \u001b[0mhelper\u001b[0m\u001b[0;34m.\u001b[0m\u001b[0mdeltaR_match\u001b[0m\u001b[0;34m(\u001b[0m\u001b[0mp4s_truth_b\u001b[0m\u001b[0;34m,\u001b[0m \u001b[0mp4s_bjet\u001b[0m\u001b[0;34m,\u001b[0m \u001b[0;36m0.4\u001b[0m\u001b[0;34m)\u001b[0m\u001b[0;34m\u001b[0m\u001b[0;34m\u001b[0m\u001b[0m\n\u001b[1;32m     38\u001b[0m \u001b[0;34m\u001b[0m\u001b[0m\n",
      "\u001b[0;32m~/public/mass_reco/helper.py\u001b[0m in \u001b[0;36mdeltaR_match\u001b[0;34m(p4s_truth, p4s_nom, maxdR)\u001b[0m\n\u001b[1;32m    164\u001b[0m             \u001b[0mdR\u001b[0m \u001b[0;34m=\u001b[0m \u001b[0mROOT\u001b[0m\u001b[0;34m.\u001b[0m\u001b[0mMath\u001b[0m\u001b[0;34m.\u001b[0m\u001b[0mVectorUtil\u001b[0m\u001b[0;34m.\u001b[0m\u001b[0mDeltaR\u001b[0m\u001b[0;34m(\u001b[0m\u001b[0mp4_truth\u001b[0m\u001b[0;34m,\u001b[0m \u001b[0mp4_nom\u001b[0m\u001b[0;34m)\u001b[0m\u001b[0;34m\u001b[0m\u001b[0;34m\u001b[0m\u001b[0m\n\u001b[1;32m    165\u001b[0m             \u001b[0mdRs\u001b[0m\u001b[0;34m.\u001b[0m\u001b[0mappend\u001b[0m\u001b[0;34m(\u001b[0m\u001b[0mdR\u001b[0m\u001b[0;34m)\u001b[0m\u001b[0;34m\u001b[0m\u001b[0;34m\u001b[0m\u001b[0m\n\u001b[0;32m--> 166\u001b[0;31m         \u001b[0midx\u001b[0m \u001b[0;34m=\u001b[0m \u001b[0mnp\u001b[0m\u001b[0;34m.\u001b[0m\u001b[0marray\u001b[0m\u001b[0;34m(\u001b[0m\u001b[0mdRs\u001b[0m\u001b[0;34m)\u001b[0m\u001b[0;34m.\u001b[0m\u001b[0margmin\u001b[0m\u001b[0;34m(\u001b[0m\u001b[0;34m)\u001b[0m\u001b[0;34m\u001b[0m\u001b[0;34m\u001b[0m\u001b[0m\n\u001b[0m\u001b[1;32m    167\u001b[0m \u001b[0;34m\u001b[0m\u001b[0m\n\u001b[1;32m    168\u001b[0m         \u001b[0;32mif\u001b[0m \u001b[0mdRs\u001b[0m\u001b[0;34m[\u001b[0m\u001b[0midx\u001b[0m\u001b[0;34m]\u001b[0m \u001b[0;34m>\u001b[0m \u001b[0;36m0.4\u001b[0m\u001b[0;34m:\u001b[0m \u001b[0;32mreturn\u001b[0m \u001b[0;34m[\u001b[0m\u001b[0;34m]\u001b[0m\u001b[0;34m\u001b[0m\u001b[0;34m\u001b[0m\u001b[0m\n",
      "\u001b[0;31mValueError\u001b[0m: attempt to get argmin of an empty sequence"
     ]
    }
   ],
   "source": [
    "eventNumber.Reset()\n",
    "# event match\n",
    "nentry = 0\n",
    "valid = 0\n",
    "minimax_matched = 0\n",
    "nominal.GetEntry(nentry)\n",
    "nnumber = getattr(nominal, \"eventNumber\")\n",
    "# for n in range(truth.GetEntries()):\n",
    "for n in range(800000):\n",
    "    truth.GetEntry(n)\n",
    "    tnumber = getattr(truth, \"eventNumber\")\n",
    "    if tnumber == nnumber:\n",
    "        #####################################################\n",
    "        ############# start analysis from here ##############\n",
    "        #####################################################\n",
    "        # construct p4 vector \n",
    "        ## truth level llbb\n",
    "        p4s_truth_b = []\n",
    "        p4s_truth_b.append(helper.p4_from_pt_eta_phi_m(truth, \"MC_b_from_t\"))\n",
    "        p4s_truth_b.append(helper.p4_from_pt_eta_phi_m(truth, \"MC_b_from_tbar\"))\n",
    "        # first element from t, second element from tbar\n",
    "\n",
    "        ## lepton (el/mu/tau)\n",
    "        prefixes = ['MC_Wdecay1_from_t', 'MC_Wdecay2_from_t', 'MC_Wdecay1_from_tbar','MC_Wdecay2_from_tbar']\n",
    "        p4s_truth_lep = helper.get_leptons_from_truth(prefixes, truth)\n",
    "            \n",
    "        ## nominal level llbb (same as in minimax_lb.ipynb)\n",
    "        p4s_lep = helper.GetLorenzP4List(nominal, 'lep')\n",
    "        p4s_bjet = helper.GetLorenzP4List(nominal,'bjet')\n",
    "\n",
    "\n",
    "\n",
    "\n",
    "        # dR match p4 vector: p4s_lep vs p4s_truth_lep; p4s_bjet vs p4s_truth_b\n",
    "        ## arrange the p4s as [from_b , from_bbar]\n",
    "        if len(p4s_truth_lep)*len(p4s_lep)*len(p4s_truth_b)*len(p4s_bjet) == 0:\n",
    "            nentry += 1\n",
    "            nominal.GetEntry(nentry)\n",
    "            nnumber = getattr(nominal, \"eventNumber\")\n",
    "            continue\n",
    "\n",
    "\n",
    "        p4s_match_lep = helper.deltaR_match(p4s_truth_lep, p4s_lep, 0.4)\n",
    "        p4s_match_bjet = helper.deltaR_match(p4s_truth_b, p4s_bjet, 0.4)\n",
    "        \n",
    "        # if one of the match failed (more or less than 2 exact match), go to the next nominal event\n",
    "        # if the match is successful:\n",
    "        \n",
    "        if len(p4s_match_lep)*len(p4s_match_bjet) != 0 :\n",
    "            m1_truth = (p4s_match_lep[0] + p4s_match_bjet[0]).M()/1000\n",
    "            m2_truth = (p4s_match_lep[1] + p4s_match_bjet[1]).M()/1000\n",
    "            m_bl1D.Fill(m1_truth)\n",
    "            m_bl1D.Fill(m2_truth)\n",
    "            valid += 1\n",
    "\n",
    "            ## minimax\n",
    "            if len(p4s_lep) ==2 and len(p4s_bjet) == 2:\n",
    "                idx_l, idx_b = helper.minimax_cross(p4s_lep, p4s_bjet)\n",
    "                # draw the correct combination\n",
    "                # fill hist\n",
    "                m_bl1D_minimax.Fill((p4s_lep[idx_l] + p4s_bjet[idx_b]).M()/1000)\n",
    "                m_bl1D_minimax.Fill((p4s_lep[1 - idx_l] + p4s_bjet[1 - idx_b]).M()/1000)\n",
    "                \n",
    "\n",
    "            # check if is correct:\n",
    "            for k in [0, 1]:\n",
    "                dR1 = ROOT.Math.VectorUtil.DeltaR(p4s_lep[idx_l],p4s_match_lep[k])\n",
    "                dR2 = ROOT.Math.VectorUtil.DeltaR(p4s_bjet[idx_b],p4s_match_bjet[k])\n",
    "                if dR1 < 0.00001 and dR2 < 0.00001:\n",
    "                    minimax_matched += 1\n",
    "                    break\n",
    "             \n",
    "      \n",
    "        #####################################################\n",
    "        ############# end analysis from here ################\n",
    "        #####################################################\n",
    "        nentry += 1\n",
    "        nominal.GetEntry(nentry)\n",
    "        nnumber = getattr(nominal, \"eventNumber\")\n",
    "        \n",
    "print(nentry, valid, minimax_matched)\n"
   ]
  },
  {
   "cell_type": "code",
   "execution_count": null,
   "metadata": {},
   "outputs": [
    {
     "name": "stdout",
     "output_type": "stream",
     "text": [
      "28.792085497642393 28.848138640833096\n",
      "95.79973044123257 97.2987304150947\n"
     ]
    },
    {
     "name": "stderr",
     "output_type": "stream",
     "text": [
      "Warning in <TCanvas::Constructor>: Deleting canvas with same name: c1\n"
     ]
    },
    {
     "data": {
      "image/png": "[encoded data removed]",
      "text/plain": [
       "<IPython.core.display.Image object>"
      ]
     },
     "metadata": {},
     "output_type": "display_data"
    }
   ],
   "source": [
    "c1 = TCanvas('c1', 'canvas1', 0, 0, 800, 600 )\n",
    "\n",
    "m_bl1D_minimax.SetLineColorAlpha(2, 1)\n",
    "m_bl1D_minimax.Draw()\n",
    "m_bl1D_minimax.GetXaxis().SetTitle(\"M_bl\")\n",
    "\n",
    "m_bl1D.Draw('same')\n",
    "\n",
    "\n",
    "# m_bl1.SetLineColorAlpha(2, 1)\n",
    "# m_bl1.Draw(\"same\")\n",
    "# m_bl2.SetLineColorAlpha(4, 1)\n",
    "# m_bl2.Draw(\"same\")\n",
    "\n",
    "\n",
    "leg = TLegend(0.6,0.6,0.9,0.77)\n",
    "leg.AddEntry(m_bl1D,\"m_bl (truth match)\", \"l\")\n",
    "leg.AddEntry(m_bl1D_minimax,\"m_bl minimax\", \"l\")\n",
    "\n",
    "# leg.AddEntry(m_bl1,\"m_bl1 (mini_max pair)\",\"l\")\n",
    "# leg.AddEntry(m_bl2,\"m_bl2 (left out pair)\",\"l\")\n",
    "leg.Draw()\n",
    "\n",
    "c1.Draw()\n",
    "\n",
    "print(m_bl1D_minimax.GetRMS(), m_bl1D.GetRMS())\n",
    "print(m_bl1D_minimax.GetMean(), m_bl1D.GetMean())"
   ]
  },
  {
   "cell_type": "code",
   "execution_count": null,
   "metadata": {},
   "outputs": [
    {
     "data": {
      "image/png": "[encoded data removed]",
      "text/plain": [
       "<IPython.core.display.Image object>"
      ]
     },
     "metadata": {},
     "output_type": "display_data"
    }
   ],
   "source": [
    "c2 = TCanvas('c2', 'canvas2', 0, 0, 800, 800 )\n",
    "m_bl2D.Draw(\"COLZ\")\n",
    "\n",
    "c2.Draw()\n"
   ]
  }
 ],
 "metadata": {
  "kernelspec": {
   "display_name": "Python 3",
   "language": "python",
   "name": "python3"
  },
  "language_info": {
   "codemirror_mode": {
    "name": "ipython",
    "version": 3
   },
   "file_extension": ".py",
   "mimetype": "text/x-python",
   "name": "python",
   "nbconvert_exporter": "python",
   "pygments_lexer": "ipython3",
   "version": "3.6.8"
  },
  "orig_nbformat": 4
 },
 "nbformat": 4,
 "nbformat_minor": 2
}
