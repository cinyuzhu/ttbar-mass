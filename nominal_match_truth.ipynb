{
 "cells": [
  {
   "cell_type": "markdown",
   "metadata": {},
   "source": [
    "# target\n",
    "\n",
    "compare truth level info with nominal\n",
    "\n",
    "1. event number match\n",
    "\n",
    "2. p4 vector dR match (bbll)"
   ]
  },
  {
   "cell_type": "code",
   "execution_count": 6,
   "metadata": {},
   "outputs": [],
   "source": [
    "import os,shutil\n",
    "import numpy as np\n",
    "import ROOT\n",
    "from ROOT import TCanvas, TLegend, TFile, TPaveLabel, TPaveText, TTree, TLorentzVector, TH1D, TVectorT, gStyle, THStack, gPad, TH2D\n",
    "from ROOT import gROOT\n",
    "import helper"
   ]
  },
  {
   "cell_type": "code",
   "execution_count": 7,
   "metadata": {},
   "outputs": [
    {
     "name": "stdout",
     "output_type": "stream",
     "text": [
      "258576 4580000\n"
     ]
    }
   ],
   "source": [
    "# 1. get tfile\n",
    "filename = \"user.cgarvey.32744802._000002.output.root\"\n",
    "file = TFile(filename)\n",
    "# 2. get ttree\n",
    "nominal = file.Get(\"nominal\")\n",
    "truth = file.Get(\"truth\")\n",
    "print(nominal.GetEntries(), truth.GetEntries())"
   ]
  },
  {
   "cell_type": "code",
   "execution_count": 8,
   "metadata": {},
   "outputs": [],
   "source": [
    "eventNumber = TH1D (\"eventNumber \",\"eventNumber\" ,50 ,0,50)\n"
   ]
  },
  {
   "cell_type": "code",
   "execution_count": 9,
   "metadata": {},
   "outputs": [
    {
     "name": "stdout",
     "output_type": "stream",
     "text": [
      "101633640\n"
     ]
    }
   ],
   "source": [
    "eventNumber.Reset()\n",
    "# event match\n",
    "nentry = 0\n",
    "nominal.GetEntry(nentry)\n",
    "nnumber = getattr(nominal, \"eventNumber\")\n",
    "# for i in range(truth.GetEntries()):\n",
    "for i in range(20000):\n",
    "    truth.GetEntry(i)\n",
    "    tnumber = getattr(truth, \"eventNumber\")\n",
    "    if tnumber == nnumber:\n",
    "        #####################################################\n",
    "        ############# start analysis from here ##############\n",
    "        #####################################################\n",
    "\n",
    "        eventNumber.Fill(nnumber- tnumber)\n",
    "        # print(tnumber,nnumber)\n",
    "        # construct p4 vector \n",
    "        ## truth level llbb\n",
    "        helper.GetP4fromTruth(truth, 'obj')\n",
    "        pass\n",
    "        \n",
    "\n",
    "        ## nominal level llbb (same as in minimax_lb.ipynb)\n",
    "        p4s_lep = helper.GetLorenzP4List(nominal, 'lep')\n",
    "        p4s_bjet = helper.GetLorenzP4List(nominal,'bjet')\n",
    "\n",
    "        # dR match p4 vector\n",
    "\n",
    "        # draw the correct combination\n",
    "\n",
    "        #####################################################\n",
    "        ############# end analysis from here ################\n",
    "        #####################################################\n",
    "        nentry += 1\n",
    "        nominal.GetEntry(nentry)\n",
    "        nnumber = getattr(nominal, \"eventNumber\")\n",
    "        \n",
    "        \n",
    "        "
   ]
  },
  {
   "cell_type": "code",
   "execution_count": 11,
   "metadata": {},
   "outputs": [
    {
     "name": "stderr",
     "output_type": "stream",
     "text": [
      "Warning in <TCanvas::Constructor>: Deleting canvas with same name: c1\n"
     ]
    },
    {
     "data": {
      "image/png": "[encoded data removed]",
      "text/plain": [
       "<IPython.core.display.Image object>"
      ]
     },
     "metadata": {},
     "output_type": "display_data"
    }
   ],
   "source": [
    "c1 = TCanvas('c1', 'canvas1', 0, 0, 800, 600 )\n",
    "eventNumber.Draw()\n",
    "c1.Draw()"
   ]
  }
 ],
 "metadata": {
  "kernelspec": {
   "display_name": "Python 3",
   "language": "python",
   "name": "python3"
  },
  "language_info": {
   "codemirror_mode": {
    "name": "ipython",
    "version": 3
   },
   "file_extension": ".py",
   "mimetype": "text/x-python",
   "name": "python",
   "nbconvert_exporter": "python",
   "pygments_lexer": "ipython3",
   "version": "3.6.8"
  },
  "orig_nbformat": 4
 },
 "nbformat": 4,
 "nbformat_minor": 2
}
