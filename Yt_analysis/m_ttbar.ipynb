{
 "cells": [
  {
   "cell_type": "code",
   "execution_count": 1,
   "metadata": {},
   "outputs": [
    {
     "name": "stdout",
     "output_type": "stream",
     "text": [
      "Welcome to JupyROOT 6.24/08\n"
     ]
    }
   ],
   "source": [
    "import sys, os\n",
    "sys.path.append(os.path.abspath(\"/afs/desy.de/user/z/zhuxinyu/public/mass_reco/\"))\n",
    "import numpy as np\n",
    "import ROOT\n",
    "from ROOT import TCanvas, TLegend, TFile, TPaveLabel, TPaveText, TTree, TLorentzVector, TH1D, TVectorT, gStyle, THStack, gPad, TH2D\n",
    "from ROOT import gROOT\n",
    "import helper\n",
    "import math\n",
    "import time\n",
    "start_time = time.time()\n",
    "\n"
   ]
  },
  {
   "cell_type": "code",
   "execution_count": 2,
   "metadata": {},
   "outputs": [
    {
     "name": "stdout",
     "output_type": "stream",
     "text": [
      "258576\n"
     ]
    }
   ],
   "source": [
    "filename = \"../output.root\"\n",
    "file = TFile(filename)\n",
    "tree = file.Get(\"nominal\")\n",
    "print(tree.GetEntries())"
   ]
  },
  {
   "cell_type": "code",
   "execution_count": 3,
   "metadata": {},
   "outputs": [],
   "source": [
    "# hists\n",
    "# 1. m_ttbar\n",
    "m_ttbars = []\n",
    "m_ttbar_Yt0  = TH1D (\"m_ttbar_Yt0\",\"m_ttbar_Yt0\" ,20 ,300 ,850)\n",
    "m_ttbar_Yt1  = TH1D (\"m_ttbar_Yt1\",\"m_ttbar_Yt1\" ,20 ,300 ,850)\n",
    "m_ttbar_Yt2  = TH1D (\"m_ttbar_Yt2\",\"m_ttbar_Yt2\" ,20 ,300 ,850)\n",
    "m_ttbar_Yt3  = TH1D (\"m_ttbar_Yt3\",\"m_ttbar_Yt3\" ,20 ,300 ,850)\n",
    "m_ttbar_Yt4  = TH1D (\"m_ttbar_Yt4\",\"m_ttbar_Yt4\" ,20 ,300 ,850)\n",
    "m_ttbars = [m_ttbar_Yt0, m_ttbar_Yt1, m_ttbar_Yt2, m_ttbar_Yt3, m_ttbar_Yt4]\n",
    "\n",
    "\n",
    "\n",
    "# 2. m_bl_minimax\n",
    "m_bl_Yt0  = TH1D (\"m_bl_Yt0\", \"masses of reco level minimax\", 20, 0, 300)\n",
    "m_bl_Yt1  = TH1D (\"m_bl_Yt1\", \"masses of reco level minimax\", 20, 0, 300)\n",
    "m_bl_Yt2  = TH1D (\"m_bl_Yt2\", \"masses of reco level minimax\", 20, 0, 300)\n",
    "m_bl_Yt3  = TH1D (\"m_bl_Yt3\", \"masses of reco level minimax\", 20, 0, 300)\n",
    "m_bl_Yt4  = TH1D (\"m_bl_Yt4\", \"masses of reco level minimax\", 20, 0, 300)\n",
    "m_bls = [m_bl_Yt0, m_bl_Yt1, m_bl_Yt2, m_bl_Yt3, m_bl_Yt4]\n"
   ]
  },
  {
   "cell_type": "code",
   "execution_count": 4,
   "metadata": {},
   "outputs": [
    {
     "name": "stdout",
     "output_type": "stream",
     "text": [
      "event: 0 --- 0.51 seconds ---\n",
      "event: 50000 --- 14.61 seconds ---\n",
      "event: 100000 --- 28.73 seconds ---\n",
      "event: 150000 --- 42.54 seconds ---\n",
      "event: 200000 --- 56.67 seconds ---\n"
     ]
    }
   ],
   "source": [
    "for n in range(250000):\n",
    "     \n",
    "     tree.GetEntry(n)\n",
    "     yt_weights = [getattr(tree, \"t_yt_reweight0\"), getattr(tree, \"t_yt_reweight1\"), getattr(tree, \"t_yt_reweight2\") , getattr(tree, \"t_yt_reweight3\"), getattr(tree, \"t_yt_reweight4\")]\n",
    "     \n",
    "     m_ttbar = getattr(tree, \"MC_ttbar_beforeFSR_m\")/1000\n",
    "     p4s_lep = helper.GetLorenzP4List(tree, 'lep')\n",
    "     p4s_bjet = helper.GetLorenzP4List(tree,'bjet')\n",
    "     ## minimax\n",
    "     if len(p4s_lep) !=2 or len(p4s_bjet) != 2: continue\n",
    "     idx_l, idx_b = helper.minimax_cross(p4s_lep, p4s_bjet)\n",
    "     bl_minimax = [p4s_lep[idx_l] + p4s_bjet[idx_b], p4s_lep[1 - idx_l] + p4s_bjet[1 - idx_b]]\n",
    "     for i in range(5):\n",
    "          m_ttbars[i].Fill(m_ttbar, yt_weights[i])\n",
    "          for j in [0, 1]:\n",
    "               m_bls[i].Fill(bl_minimax[j].M()/1000, yt_weights[i])\n",
    "\n",
    "         \n",
    "\n",
    "     if (not(n % 50000)): \n",
    "        print(\"event:\", n, \"--- %.2f seconds ---\" % (time.time() - start_time))\n",
    "\n",
    "     \n",
    "\n",
    "   \n",
    "\n"
   ]
  },
  {
   "cell_type": "code",
   "execution_count": 9,
   "metadata": {},
   "outputs": [
    {
     "data": {
      "text/plain": [
       "32311.943545758724"
      ]
     },
     "execution_count": 9,
     "metadata": {},
     "output_type": "execute_result"
    }
   ],
   "source": [
    "m_ttbars[4].GetMaximum()"
   ]
  },
  {
   "cell_type": "code",
   "execution_count": 10,
   "metadata": {},
   "outputs": [
    {
     "name": "stderr",
     "output_type": "stream",
     "text": [
      "Warning in <TCanvas::Constructor>: Deleting canvas with same name: c\n"
     ]
    },
    {
     "data": {
      "image/png": "[encoded data removed]",
      "text/plain": [
       "<IPython.core.display.Image object>"
      ]
     },
     "metadata": {},
     "output_type": "display_data"
    }
   ],
   "source": [
    "c = ROOT.TCanvas(\"c\", \"c\", 800, 600)\n",
    "# Divide the canvas into two pads: one for the upper plot, one for the lower plot\n",
    "pad1 = ROOT.TPad(\"pad1\", \"pad1\", 0, 0.3, 1, 1.0)\n",
    "pad1.SetBottomMargin(0)  # Remove the space between the plots\n",
    "pad1.Draw()\n",
    "pad1.cd()\n",
    "m_ttbars[0].Draw()\n",
    "m_ttbars[0].GetYaxis().SetRangeUser(0, m_ttbars[4].GetMaximum()*1.1)\n",
    "leg = TLegend(0.6,0.6,0.9,0.77)\n",
    "leg.AddEntry(m_ttbars[0], \"Yt = \"+ str(0), \"l\")\n",
    "colors = [1, 2, 3, 4, 6]\n",
    "for i, color in enumerate(colors):\n",
    "    m_ttbars[i].SetLineColor(color)\n",
    "    m_ttbars[i].Draw(\"same h\")\n",
    "    leg.AddEntry(m_ttbars[i],\"Yt = \"+ str(i), \"l\")\n",
    "\n",
    "leg.Draw()\n",
    "\n",
    "# Lower plot\n",
    "c.cd()\n",
    "pad2 = ROOT.TPad(\"pad2\", \"pad2\", 0, 0.05, 1, 0.3)\n",
    "pad2.SetTopMargin(0)  # Remove the space between the plots\n",
    "pad2.SetBottomMargin(0.4)\n",
    "pad2.Draw()\n",
    "pad2.cd()\n",
    "gStyle.SetOptStat(0)\n",
    "\n",
    "ratios = []\n",
    "\n",
    "for i in range(5):\n",
    "    ratios.append(m_ttbars[i].Clone(\"ratio\"+str(i)))\n",
    "for i, ratio in enumerate(ratios): \n",
    "    ratio.SetStats(False)\n",
    "    ratio.SetTitle(\"\")\n",
    "    ratio.GetXaxis().SetLabelOffset(0.005)\n",
    "    ratio.GetXaxis().SetLabelSize(0.12)\n",
    "    ratio.GetXaxis().SetTitleOffset(1.1)\n",
    "    ratio.GetXaxis().SetTitleSize(0.12)\n",
    "    ratio.GetYaxis().SetLabelSize(0.12)\n",
    "    ratio.GetYaxis().SetTitleSize(0.13)\n",
    "    ratio.GetYaxis().SetTitle(\"reco/truth\")\n",
    "    ratio.GetYaxis().SetTitleOffset(0.3)\n",
    "    ratio.GetYaxis().SetNdivisions(506)\n",
    "    # ratio.Draw(\"pe\")\n",
    "    ratio.GetYaxis().SetRangeUser(0, 2)\n",
    "    ratio.GetXaxis().SetTitle(\"#theta_{bl}\")\n",
    "    ratio.Divide(m_ttbars[1])\n",
    "    ratio.Draw(\"same\")\n",
    "\n",
    "# ref = theta_bl_truth.Clone(\"ref\")\n",
    "# ref.Divide(theta_bl_truth)\n",
    "# ref.Draw(\"same\")\n",
    "c.Draw()"
   ]
  },
  {
   "cell_type": "code",
   "execution_count": 13,
   "metadata": {},
   "outputs": [
    {
     "name": "stderr",
     "output_type": "stream",
     "text": [
      "Warning in <TCanvas::Constructor>: Deleting canvas with same name: c\n"
     ]
    },
    {
     "data": {
      "image/png": "[encoded data removed]",
      "text/plain": [
       "<IPython.core.display.Image object>"
      ]
     },
     "metadata": {},
     "output_type": "display_data"
    }
   ],
   "source": [
    "c = ROOT.TCanvas(\"c\", \"c\", 800, 600)\n",
    "# Divide the canvas into two pads: one for the upper plot, one for the lower plot\n",
    "pad1 = ROOT.TPad(\"pad1\", \"pad1\", 0, 0.3, 1, 1.0)\n",
    "pad1.SetBottomMargin(0)  # Remove the space between the plots\n",
    "pad1.Draw()\n",
    "pad1.cd()\n",
    "m_bls[0].Draw()\n",
    "m_bls[0].GetYaxis().SetRangeUser(0, m_bls[4].GetMaximum()*1.1)\n",
    "leg = TLegend(0.6,0.6,0.9,0.77)\n",
    "leg.AddEntry(m_ttbars[0], \"Yt = \"+ str(0), \"l\")\n",
    "colors = [1, 2, 3, 4, 6]\n",
    "for i, color in enumerate(colors):\n",
    "    m_bls[i].SetLineColor(color)\n",
    "    m_bls[i].Draw(\"same h\")\n",
    "    leg.AddEntry(m_bls[i],\"Yt = \"+ str(i), \"l\")\n",
    "\n",
    "leg.Draw()\n",
    "\n",
    "# Lower plot\n",
    "c.cd()\n",
    "pad2 = ROOT.TPad(\"pad2\", \"pad2\", 0, 0.05, 1, 0.3)\n",
    "pad2.SetTopMargin(0)  # Remove the space between the plots\n",
    "pad2.SetBottomMargin(0.4)\n",
    "pad2.Draw()\n",
    "pad2.cd()\n",
    "gStyle.SetOptStat(0)\n",
    "\n",
    "ratios = []\n",
    "\n",
    "for i in range(5):\n",
    "    ratios.append(m_bls[i].Clone(\"ratio\"+str(i)))\n",
    "for i, ratio in enumerate(ratios): \n",
    "    ratio.SetStats(False)\n",
    "    ratio.SetTitle(\"\")\n",
    "    ratio.GetXaxis().SetLabelOffset(0.005)\n",
    "    ratio.GetXaxis().SetLabelSize(0.12)\n",
    "    ratio.GetXaxis().SetTitleOffset(1.1)\n",
    "    ratio.GetXaxis().SetTitleSize(0.12)\n",
    "    ratio.GetYaxis().SetLabelSize(0.12)\n",
    "    ratio.GetYaxis().SetTitleSize(0.13)\n",
    "    ratio.GetYaxis().SetTitle(\"reco/truth\")\n",
    "    ratio.GetYaxis().SetTitleOffset(0.3)\n",
    "    ratio.GetYaxis().SetNdivisions(506)\n",
    "    # ratio.Draw(\"pe\")\n",
    "    ratio.GetYaxis().SetRangeUser(0.7, 1.3)\n",
    "    ratio.GetXaxis().SetTitle(\"#theta_{bl}\")\n",
    "    ratio.Divide(m_bls[1])\n",
    "    ratio.Draw(\"same\")\n",
    "\n",
    "# ref = theta_bl_truth.Clone(\"ref\")\n",
    "# ref.Divide(theta_bl_truth)\n",
    "# ref.Draw(\"same\")\n",
    "c.Draw()"
   ]
  }
 ],
 "metadata": {
  "kernelspec": {
   "display_name": "Python 3",
   "language": "python",
   "name": "python3"
  },
  "language_info": {
   "codemirror_mode": {
    "name": "ipython",
    "version": 3
   },
   "file_extension": ".py",
   "mimetype": "text/x-python",
   "name": "python",
   "nbconvert_exporter": "python",
   "pygments_lexer": "ipython3",
   "version": "3.6.8"
  },
  "orig_nbformat": 4
 },
 "nbformat": 4,
 "nbformat_minor": 2
}
