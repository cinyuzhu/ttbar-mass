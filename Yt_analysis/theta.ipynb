{
 "cells": [
  {
   "cell_type": "code",
   "execution_count": 1,
   "metadata": {},
   "outputs": [
    {
     "name": "stdout",
     "output_type": "stream",
     "text": [
      "Welcome to JupyROOT 6.24/08\n"
     ]
    }
   ],
   "source": [
    "import sys, os\n",
    "sys.path.append(os.path.abspath(\"/afs/desy.de/user/z/zhuxinyu/public/mass_reco/\"))\n",
    "import numpy as np\n",
    "import ROOT\n",
    "from ROOT import TCanvas, TLegend, TFile, TPaveLabel, TPaveText, TTree, TLorentzVector, TH1D, TVectorT, gStyle, THStack, gPad, TH2D\n",
    "from ROOT import gROOT\n",
    "import helper\n",
    "import math\n",
    "import time\n",
    "start_time = time.time()\n"
   ]
  },
  {
   "cell_type": "code",
   "execution_count": 2,
   "metadata": {},
   "outputs": [
    {
     "name": "stdout",
     "output_type": "stream",
     "text": [
      "258576\n"
     ]
    }
   ],
   "source": [
    "filename = \"../output.root\"\n",
    "file = TFile(filename)\n",
    "tree = file.Get(\"nominal\")\n",
    "print(tree.GetEntries())"
   ]
  },
  {
   "cell_type": "code",
   "execution_count": 3,
   "metadata": {},
   "outputs": [],
   "source": [
    "# hists\n",
    "# 1. theta_t_truth\n",
    "theta_t_Yt0  = TH1D (\"theta_t_Yt0\",\"theta_t_Yt0\" ,40 ,-1 ,1)\n",
    "theta_t_Yt1  = TH1D (\"theta_t_Yt1\",\"theta_t_Yt1\" ,40 ,-1 ,1)\n",
    "theta_t_Yt2  = TH1D (\"theta_t_Yt2\",\"theta_t_Yt2\" ,40 ,-1 ,1)\n",
    "theta_t_Yt3  = TH1D (\"theta_t_Yt3\",\"theta_t_Yt3\" ,40 ,-1 ,1)\n",
    "theta_t_Yt4  = TH1D (\"theta_t_Yt4\",\"theta_t_Yt4\" ,40 ,-1 ,1)\n",
    "theta_t_Yts = [theta_t_Yt0, theta_t_Yt1, theta_t_Yt2, theta_t_Yt3, theta_t_Yt4]\n",
    "\n",
    "\n",
    "\n",
    "# 2. theta_bl_minimax\n",
    "theta_bl_Yt0  = TH1D (\"theta_bl_Yt0\", \"theta_bl_Yt0\", 40,-1 ,1)\n",
    "theta_bl_Yt1  = TH1D (\"theta_bl_Yt1\", \"theta_bl_Yt1\", 40,-1 ,1)\n",
    "theta_bl_Yt2  = TH1D (\"theta_bl_Yt2\", \"theta_bl_Yt2\", 40,-1 ,1)\n",
    "theta_bl_Yt3  = TH1D (\"theta_bl_Yt3\", \"theta_bl_Yt3\", 40,-1 ,1)\n",
    "theta_bl_Yt4  = TH1D (\"theta_bl_Yt4\", \"theta_bl_Yt4\", 40,-1 ,1)\n",
    "theta_bl_Yts = [theta_bl_Yt0, theta_bl_Yt1, theta_bl_Yt2, theta_bl_Yt3, theta_bl_Yt4]\n"
   ]
  },
  {
   "cell_type": "code",
   "execution_count": 4,
   "metadata": {},
   "outputs": [
    {
     "name": "stdout",
     "output_type": "stream",
     "text": [
      "event: 0 --- 0.50 seconds ---\n"
     ]
    },
    {
     "name": "stdout",
     "output_type": "stream",
     "text": [
      "event: 50000 --- 16.60 seconds ---\n",
      "event: 100000 --- 32.94 seconds ---\n",
      "event: 150000 --- 50.21 seconds ---\n",
      "event: 200000 --- 67.46 seconds ---\n"
     ]
    }
   ],
   "source": [
    "for n in range(250000):\n",
    "     \n",
    "     tree.GetEntry(n)\n",
    "     yt_weights = [getattr(tree, \"t_yt_reweight0\"), getattr(tree, \"t_yt_reweight1\"), getattr(tree, \"t_yt_reweight2\") , getattr(tree, \"t_yt_reweight3\"), getattr(tree, \"t_yt_reweight4\")]\n",
    "     \n",
    "\n",
    "     # rest frame theta top\n",
    "     p4s_ttbar_beforeFSR = helper.p4_from_pt_eta_phi_m(tree, \"MC_ttbar_beforeFSR\")\n",
    "     p4s_t_beforeFSR = helper.p4_from_pt_eta_phi_m(tree, \"MC_t_beforeFSR\")\n",
    "     p4s_tbar_beforeFSR = helper.p4_from_pt_eta_phi_m(tree, \"MC_tbar_beforeFSR\")\n",
    "\n",
    "     BoostVector = p4s_ttbar_beforeFSR.BoostVector()\n",
    "\n",
    "     p4s_t_beforeFSR_reboost = TLorentzVector(p4s_t_beforeFSR)\n",
    "     p4s_t_beforeFSR_reboost.Boost(-BoostVector)\n",
    "\n",
    "     p4s_tbar_beforeFSR_reboost = TLorentzVector(p4s_tbar_beforeFSR)\n",
    "     p4s_tbar_beforeFSR_reboost.Boost(-BoostVector)\n",
    "\n",
    "     # minimax\n",
    "\n",
    "     # p4s_lep = helper.GetLorenzP4List(tree, 'lep')\n",
    "     # p4s_bjet = helper.GetLorenzP4List(tree,'bjet')\n",
    "     # ## minimax\n",
    "     # if len(p4s_lep) !=2 or len(p4s_bjet) != 2: continue\n",
    "     # idx_l, idx_b = helper.minimax_cross(p4s_lep, p4s_bjet)\n",
    "     # bl_minimax = [p4s_lep[idx_l] + p4s_bjet[idx_b], p4s_lep[1 - idx_l] + p4s_bjet[1 - idx_b]]\n",
    "     if (True):\n",
    "          for i in range(5):\n",
    "               theta_t_Yts[i].Fill(p4s_t_beforeFSR.CosTheta(), yt_weights[i])\n",
    "               theta_t_Yts[i].Fill(p4s_tbar_beforeFSR.CosTheta(), yt_weights[i])\n",
    "               # theta_bl_Yts[i].Fill(bl_minimax[0].CosTheta(), yt_weights[i])\n",
    "               # theta_bl_Yts[i].Fill(bl_minimax[1].CosTheta(), yt_weights[i])\n",
    "\n",
    "     if (not(n % 50000)): \n",
    "        print(\"event:\", n, \"--- %.2f seconds ---\" % (time.time() - start_time))\n"
   ]
  },
  {
   "cell_type": "code",
   "execution_count": 10,
   "metadata": {},
   "outputs": [
    {
     "name": "stderr",
     "output_type": "stream",
     "text": [
      "Warning in <TCanvas::Constructor>: Deleting canvas with same name: c\n"
     ]
    },
    {
     "data": {
      "image/png": "[encoded data removed]",
      "text/plain": [
       "<IPython.core.display.Image object>"
      ]
     },
     "metadata": {},
     "output_type": "display_data"
    }
   ],
   "source": [
    "c = ROOT.TCanvas(\"c\", \"c\", 800, 600)\n",
    "# Divide the canvas into two pads: one for the upper plot, one for the lower plot\n",
    "pad1 = ROOT.TPad(\"pad1\", \"pad1\", 0, 0.3, 1, 1.0)\n",
    "pad1.SetBottomMargin(0)  # Remove the space between the plots\n",
    "pad1.SetLeftMargin(0.15)\n",
    "\n",
    "pad1.Draw()\n",
    "pad1.cd()\n",
    "gStyle.SetTitleFontSize(0.07)\n",
    "theta_t_Yts[0].GetYaxis().SetLabelSize(0.05)\n",
    "theta_t_Yts[0].SetTitle(\"cos#theta_{t truth}^{lab frame} for Yt = 0,1,2,3,4\")\n",
    "theta_t_Yts[0].GetYaxis().SetTitle(\"Events/0.05\")\n",
    "theta_t_Yts[0].GetYaxis().SetTitleSize(0.05)\n",
    "theta_t_Yts[0].GetYaxis().SetRangeUser(1, theta_t_Yts[4].GetMaximum()*1.1)\n",
    "theta_t_Yts[0].Draw()\n",
    "\n",
    "leg = TLegend(0.6,0.5,0.75,0.85)\n",
    "colors = [1, 2, 3, 4, 6]\n",
    "for i, color in enumerate(colors):\n",
    "    theta_t_Yts[i].SetLineColor(color)\n",
    "    theta_t_Yts[i].SetLineWidth(2)\n",
    "    theta_t_Yts[i].Draw(\"same h\")\n",
    "    leg.AddEntry(theta_t_Yts[i],\"Yt = \"+ str(i), \"l\")\n",
    "leg.SetBorderSize(0)\n",
    "leg.Draw()\n",
    "\n",
    "# Lower plot\n",
    "c.cd()\n",
    "pad2 = ROOT.TPad(\"pad2\", \"pad2\", 0, 0.05, 1, 0.3)\n",
    "pad2.SetTopMargin(0)  # Remove the space between the plots\n",
    "pad2.SetBottomMargin(0.4)\n",
    "pad2.Draw()\n",
    "pad2.SetLeftMargin(0.15)\n",
    "\n",
    "pad2.cd()\n",
    "\n",
    "gStyle.SetOptStat(0)\n",
    "\n",
    "ratios = []\n",
    "\n",
    "for i in range(5):\n",
    "    ratios.append(theta_t_Yts[i].Clone(\"ratio\"+str(i)))\n",
    "for i, ratio in enumerate(ratios): \n",
    "    ratio.SetStats(False)\n",
    "    ratio.SetTitle(\"\")\n",
    "    ratio.GetXaxis().SetLabelOffset(0.005)\n",
    "    ratio.GetXaxis().SetLabelSize(0.18)\n",
    "    # ratio.GetXaxis().SetTitleOffset(1.1)\n",
    "    ratio.GetXaxis().SetTitleSize(0.18)\n",
    "    ratio.GetYaxis().SetLabelSize(0.14)\n",
    "    ratio.GetYaxis().SetTitleSize(0.16)\n",
    "    ratio.GetYaxis().SetTitleOffset(0.3)\n",
    "    ratio.GetYaxis().SetNdivisions(506)\n",
    "    ratio.GetYaxis().SetTitle(\"#frac{Yt}{Yt = 1 }\")\n",
    "    ratio.GetXaxis().SetTitle(\"cos #theta_{t}\")\n",
    "    ratio.GetYaxis().SetRangeUser(0.96, 1.13)\n",
    "    ratio.Divide(theta_t_Yts[1])\n",
    "    ratio.Draw(\"same\")\n",
    "\n",
    "# ref = theta_bl_truth.Clone(\"ref\")\n",
    "# ref.Divide(theta_bl_truth)\n",
    "# ref.Draw(\"same\")\n",
    "c.Draw()"
   ]
  },
  {
   "cell_type": "code",
   "execution_count": 6,
   "metadata": {},
   "outputs": [
    {
     "name": "stderr",
     "output_type": "stream",
     "text": [
      "Warning in <TCanvas::Constructor>: Deleting canvas with same name: c\n",
      "Error in <TPad::Range>: illegal world coordinates range: x1=-1.400000, y1=0.000000, x2=1.266667, y2=0.000000\n",
      "Error in <TPad::RangeAxis>: illegal axis coordinates range: xmin=-1.000000, ymin=0.000000, xmax=1.000000, ymax=0.000000\n",
      "Error in <TPad::Range>: illegal world coordinates range: x1=-1.400000, y1=0.000000, x2=1.266667, y2=0.000000\n",
      "Error in <TPad::RangeAxis>: illegal axis coordinates range: xmin=-1.000000, ymin=0.000000, xmax=1.000000, ymax=0.000000\n"
     ]
    },
    {
     "data": {
      "image/png": "[encoded data removed]",
      "text/plain": [
       "<IPython.core.display.Image object>"
      ]
     },
     "metadata": {},
     "output_type": "display_data"
    }
   ],
   "source": [
    "c = ROOT.TCanvas(\"c\", \"c\", 800, 600)\n",
    "# Divide the canvas into two pads: one for the upper plot, one for the lower plot\n",
    "pad1 = ROOT.TPad(\"pad1\", \"pad1\", 0, 0.3, 1, 1.0)\n",
    "pad1.SetBottomMargin(0)  # Remove the space between the plots\n",
    "pad1.SetLeftMargin(0.15)\n",
    "\n",
    "pad1.Draw()\n",
    "pad1.cd()\n",
    "gStyle.SetTitleFontSize(0.07)\n",
    "theta_bl_Yts[0].GetYaxis().SetLabelSize(0.05)\n",
    "theta_bl_Yts[0].SetTitle(\"cos#theta_{bl reco}^{minimax} (m_{tt} < 500GeV) for Yt = 0,1,2,3,4\")\n",
    "theta_bl_Yts[0].GetYaxis().SetTitle(\"Events/0.05\")\n",
    "theta_bl_Yts[0].Draw()\n",
    "theta_bl_Yts[0].GetYaxis().SetTitleSize(0.05)\n",
    "\n",
    "theta_bl_Yts[0].GetYaxis().SetRangeUser(0.01, theta_bl_Yts[4].GetMaximum()*1.1)\n",
    "leg = TLegend(0.6,0.5,0.75,0.85)\n",
    "colors = [1, 2, 3, 4, 6]\n",
    "for i, color in enumerate(colors):\n",
    "    theta_bl_Yts[i].SetLineColor(color)\n",
    "    theta_bl_Yts[i].SetLineWidth(2)\n",
    "    theta_bl_Yts[i].Draw(\"same h\")\n",
    "    leg.AddEntry(theta_bl_Yts[i],\"Yt = \"+ str(i), \"l\")\n",
    "leg.SetBorderSize(0)\n",
    "leg.Draw()\n",
    "\n",
    "# Lower plot\n",
    "c.cd()\n",
    "pad2 = ROOT.TPad(\"pad2\", \"pad2\", 0, 0.05, 1, 0.3)\n",
    "pad2.SetTopMargin(0)  # Remove the space between the plots\n",
    "pad2.SetBottomMargin(0.4)\n",
    "pad2.Draw()\n",
    "pad2.SetLeftMargin(0.15)\n",
    "\n",
    "pad2.cd()\n",
    "\n",
    "gStyle.SetOptStat(0)\n",
    "\n",
    "ratios = []\n",
    "for i in range(5):\n",
    "    ratios.append(theta_bl_Yts[i].Clone(\"ratio\"+str(i)))\n",
    "for i, ratio in enumerate(ratios): \n",
    "    ratio.SetStats(False)\n",
    "    ratio.SetTitle(\"\")\n",
    "    ratio.GetXaxis().SetLabelOffset(0.005)\n",
    "    ratio.GetXaxis().SetLabelSize(0.18)\n",
    "    # ratio.GetXaxis().SetTitleOffset(1.1)\n",
    "    ratio.GetXaxis().SetTitleSize(0.18)\n",
    "    ratio.GetYaxis().SetLabelSize(0.14)\n",
    "    ratio.GetYaxis().SetTitleSize(0.16)\n",
    "    ratio.GetYaxis().SetTitleOffset(0.3)\n",
    "    ratio.GetYaxis().SetNdivisions(506)\n",
    "    ratio.GetYaxis().SetTitle(\"#frac{Yt}{Yt = 1 }\")\n",
    "    ratio.GetXaxis().SetTitle(\"cos #theta_{bl reco}^{minimax}\")\n",
    "    ratio.GetYaxis().SetRangeUser(0.96, 1.29)\n",
    "    ratio.Divide(theta_bl_Yts[1])\n",
    "    ratio.Draw(\"same\")\n",
    "\n",
    "# ref = theta_bl_truth.Clone(\"ref\")\n",
    "# ref.Divide(theta_bl_truth)\n",
    "# ref.Draw(\"same\")\n",
    "c.Draw()"
   ]
  },
  {
   "cell_type": "code",
   "execution_count": null,
   "metadata": {},
   "outputs": [],
   "source": []
  }
 ],
 "metadata": {
  "kernelspec": {
   "display_name": "Python 3",
   "language": "python",
   "name": "python3"
  },
  "language_info": {
   "codemirror_mode": {
    "name": "ipython",
    "version": 3
   },
   "file_extension": ".py",
   "mimetype": "text/x-python",
   "name": "python",
   "nbconvert_exporter": "python",
   "pygments_lexer": "ipython3",
   "version": "3.6.8"
  },
  "orig_nbformat": 4
 },
 "nbformat": 4,
 "nbformat_minor": 2
}
