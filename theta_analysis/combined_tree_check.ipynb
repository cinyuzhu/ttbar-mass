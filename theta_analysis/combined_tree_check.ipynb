{
 "cells": [
  {
   "cell_type": "markdown",
   "metadata": {},
   "source": [
    "just check a certain entry of old:nomi/truth tree and new:combined tree, see if the number is the same"
   ]
  },
  {
   "cell_type": "code",
   "execution_count": 1,
   "metadata": {},
   "outputs": [
    {
     "name": "stdout",
     "output_type": "stream",
     "text": [
      "Welcome to JupyROOT 6.24/08\n"
     ]
    }
   ],
   "source": [
    "import sys, os\n",
    "sys.path.append(os.path.abspath(\"/afs/desy.de/user/z/zhuxinyu/public/mass_reco/\"))\n",
    "import numpy as np\n",
    "import ROOT\n",
    "from ROOT import TCanvas, TLegend, TFile, TPaveLabel, TPaveText, TTree, TLorentzVector, TH1D, TVectorT, gStyle, THStack, gPad, TH2D\n",
    "from ROOT import gROOT\n",
    "import helper"
   ]
  },
  {
   "cell_type": "markdown",
   "metadata": {},
   "source": [
    "# new file"
   ]
  },
  {
   "cell_type": "code",
   "execution_count": 7,
   "metadata": {},
   "outputs": [
    {
     "name": "stdout",
     "output_type": "stream",
     "text": [
      "258576\n",
      "101633640\n",
      "119844.3046875\n",
      "13\n",
      "-----------------\n",
      "101633205\n",
      "87698.0703125\n",
      "13\n",
      "-----------------\n",
      "101632077\n",
      "170471.09375\n",
      "13\n",
      "-----------------\n",
      "101632319\n",
      "147694.109375\n",
      "11\n",
      "-----------------\n"
     ]
    }
   ],
   "source": [
    "filename = \"output.root\"\n",
    "file = TFile(filename)\n",
    "new_tree = file.Get(\"nominal\")\n",
    "print(new_tree.GetEntries())\n",
    "for n in [0,1,2,3]:\n",
    "    new_tree.GetEntry(n)\n",
    "    print(getattr(new_tree, \"t_eventNumber\"))\n",
    "    print(getattr(new_tree, \"jet_pt\")[0])\n",
    "    print(getattr(new_tree, \"MC_Wdecay1_from_tbar_pdgId\"))\n",
    "    print(\"-----------------\")\n"
   ]
  },
  {
   "cell_type": "markdown",
   "metadata": {},
   "source": [
    "# old file"
   ]
  },
  {
   "cell_type": "code",
   "execution_count": 4,
   "metadata": {},
   "outputs": [
    {
     "name": "stdout",
     "output_type": "stream",
     "text": [
      "nentry: 0\n",
      "eventNumber: 101633640\n",
      "MC_Wdecay1_from_tbar_pdgId: 13\n",
      "jet_pt 119844.3046875\n",
      "nentry: 1\n",
      "eventNumber: 101633205\n",
      "MC_Wdecay1_from_tbar_pdgId: 13\n",
      "jet_pt 87698.0703125\n",
      "nentry: 2\n",
      "eventNumber: 101632077\n",
      "MC_Wdecay1_from_tbar_pdgId: 13\n",
      "jet_pt 170471.09375\n",
      "nentry: 3\n",
      "eventNumber: 101632319\n",
      "MC_Wdecay1_from_tbar_pdgId: 11\n",
      "jet_pt 147694.109375\n",
      "nentry: 4\n",
      "eventNumber: 101633367\n",
      "MC_Wdecay1_from_tbar_pdgId: 13\n",
      "jet_pt 73664.25\n",
      "nentry: 5\n",
      "eventNumber: 101632315\n",
      "MC_Wdecay1_from_tbar_pdgId: 13\n",
      "jet_pt 73441.8984375\n",
      "nentry: 6\n",
      "eventNumber: 101633755\n",
      "MC_Wdecay1_from_tbar_pdgId: 11\n",
      "jet_pt 81195.765625\n",
      "nentry: 7\n",
      "eventNumber: 101632062\n",
      "MC_Wdecay1_from_tbar_pdgId: 15\n",
      "jet_pt 58434.41796875\n",
      "nentry: 8\n",
      "eventNumber: 101633063\n",
      "MC_Wdecay1_from_tbar_pdgId: 13\n",
      "jet_pt 184359.984375\n",
      "nentry: 9\n",
      "eventNumber: 101633781\n",
      "MC_Wdecay1_from_tbar_pdgId: 11\n",
      "jet_pt 50768.48046875\n",
      "nentry: 10\n",
      "eventNumber: 101632912\n",
      "MC_Wdecay1_from_tbar_pdgId: 15\n",
      "jet_pt 78529.2734375\n",
      "nentry: 11\n",
      "eventNumber: 101632567\n",
      "MC_Wdecay1_from_tbar_pdgId: 11\n",
      "jet_pt 93605.65625\n",
      "nentry: 12\n",
      "eventNumber: 101632770\n",
      "MC_Wdecay1_from_tbar_pdgId: 13\n",
      "jet_pt 74793.734375\n",
      "nentry: 13\n",
      "eventNumber: 101633409\n",
      "MC_Wdecay1_from_tbar_pdgId: 13\n",
      "jet_pt 55048.63671875\n",
      "nentry: 14\n",
      "eventNumber: 101633119\n",
      "MC_Wdecay1_from_tbar_pdgId: 13\n",
      "jet_pt 82176.8046875\n",
      "nentry: 15\n",
      "eventNumber: 101632516\n",
      "MC_Wdecay1_from_tbar_pdgId: 13\n",
      "jet_pt 91945.5078125\n",
      "nentry: 16\n",
      "eventNumber: 101633866\n",
      "MC_Wdecay1_from_tbar_pdgId: 13\n",
      "jet_pt 80673.5390625\n",
      "nentry: 17\n",
      "eventNumber: 101633206\n",
      "MC_Wdecay1_from_tbar_pdgId: 13\n",
      "jet_pt 124499.2421875\n",
      "nentry: 18\n",
      "eventNumber: 101632200\n",
      "MC_Wdecay1_from_tbar_pdgId: 11\n",
      "jet_pt 94165.28125\n",
      "nentry: 19\n",
      "eventNumber: 101633060\n",
      "MC_Wdecay1_from_tbar_pdgId: 13\n",
      "jet_pt 108700.4765625\n",
      "nentry: 20\n",
      "eventNumber: 101632575\n",
      "MC_Wdecay1_from_tbar_pdgId: 11\n",
      "jet_pt 172277.890625\n",
      "nentry: 21\n",
      "eventNumber: 101632679\n",
      "MC_Wdecay1_from_tbar_pdgId: 11\n",
      "jet_pt 331732.40625\n",
      "nentry: 22\n",
      "eventNumber: 101633257\n",
      "MC_Wdecay1_from_tbar_pdgId: 11\n",
      "jet_pt 88984.8828125\n",
      "nentry: 23\n",
      "eventNumber: 101632464\n",
      "MC_Wdecay1_from_tbar_pdgId: 13\n",
      "jet_pt 143567.015625\n",
      "nentry: 24\n",
      "eventNumber: 101632316\n",
      "MC_Wdecay1_from_tbar_pdgId: 13\n",
      "jet_pt 66282.21875\n"
     ]
    }
   ],
   "source": [
    "file2 = TFile(\"user.cgarvey.32744802._000002.output.root\")\n",
    "nominal = file2.Get(\"nominal\")\n",
    "truth = file2.Get(\"truth\")\n",
    "# event match\n",
    "nentry = 0\n",
    "nominal.GetEntry(nentry)\n",
    "nnumber = getattr(nominal, \"eventNumber\")\n",
    "# for n in range(truth.GetEntries()):\n",
    "for n in range(400):\n",
    "    truth.GetEntry(n)\n",
    "    tnumber = getattr(truth, \"eventNumber\")\n",
    "    if tnumber == nnumber:\n",
    "        #####################################################\n",
    "        ############# start analysis from here ##############\n",
    "        #####################################################\n",
    "        print(\"nentry:\", nentry)\n",
    "        print(\"eventNumber:\", tnumber)\n",
    "        print(\"MC_Wdecay1_from_tbar_pdgId:\", getattr(truth, \"MC_Wdecay1_from_tbar_pdgId\"))\n",
    "        print(\"jet_pt\", getattr(nominal, \"jet_pt\")[0])\n",
    "        #####################################################\n",
    "        ############# end analysis from here ################\n",
    "        #####################################################\n",
    "        nentry += 1\n",
    "        nominal.GetEntry(nentry)\n",
    "        nnumber = getattr(nominal, \"eventNumber\")\n"
   ]
  }
 ],
 "metadata": {
  "kernelspec": {
   "display_name": "Python 3",
   "language": "python",
   "name": "python3"
  },
  "language_info": {
   "codemirror_mode": {
    "name": "ipython",
    "version": 3
   },
   "file_extension": ".py",
   "mimetype": "text/x-python",
   "name": "python",
   "nbconvert_exporter": "python",
   "pygments_lexer": "ipython3",
   "version": "3.6.8"
  },
  "orig_nbformat": 4
 },
 "nbformat": 4,
 "nbformat_minor": 2
}
