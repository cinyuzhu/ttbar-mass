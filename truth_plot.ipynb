{
 "cells": [
  {
   "cell_type": "markdown",
   "metadata": {},
   "source": [
    "# truth-level plot\n",
    "\n",
    "1. m_ttbar_before_FSR\n",
    "\n",
    "2. m_ttbar_after_FSR\n",
    "\n",
    "3. m_bbllvv, p4 construction\n"
   ]
  },
  {
   "cell_type": "code",
   "execution_count": 2,
   "metadata": {},
   "outputs": [],
   "source": [
    "import os,shutil\n",
    "import numpy as np\n",
    "import ROOT\n",
    "from ROOT import TCanvas, TLegend, TFile, TPaveLabel, TPaveText, TTree, TLorentzVector, TH1D, TVectorT, gStyle, THStack, gPad, TH2D, TRatioPlot\n",
    "from ROOT import gROOT\n",
    "import helper,painter"
   ]
  },
  {
   "cell_type": "code",
   "execution_count": 3,
   "metadata": {},
   "outputs": [],
   "source": [
    "filename = \"user.cgarvey.32744802._000002.output.root\"\n",
    "file = TFile(filename)\n",
    "truth = file.Get(\"truth\")"
   ]
  },
  {
   "cell_type": "code",
   "execution_count": 4,
   "metadata": {},
   "outputs": [],
   "source": [
    "m_ttbar_before_FSR  = TH1D (\"m_ttbar_before_FSR \",\"m_ttbar_before_FSR\" ,50 ,300 ,700)\n",
    "m_ttbar_after_FSR  = TH1D (\"m_ttbar_after_FSR \",\"m_ttbar_after_FSR\" ,50 ,300 ,700)\n",
    "m_bbllvv =  TH1D (\"m_bbllvv \",\"m_bbllvv\" ,50 ,300 ,700)"
   ]
  },
  {
   "cell_type": "code",
   "execution_count": 5,
   "metadata": {},
   "outputs": [],
   "source": [
    "m_ttbar_before_FSR.Reset()\n",
    "m_ttbar_after_FSR.Reset()\n",
    "m_bbllvv.Reset()"
   ]
  },
  {
   "cell_type": "code",
   "execution_count": 7,
   "metadata": {},
   "outputs": [],
   "source": [
    "for n in range(1000):\n",
    "# for n in range(truth.GetEntries()):\n",
    "    truth.GetEntry(n)\n",
    "    m_ttbar_before_FSR.Fill(getattr(truth, \"MC_ttbar_beforeFSR_m\")/1000)\n",
    "    m_ttbar_after_FSR.Fill(getattr(truth, \"MC_ttbar_afterFSR_m\")/1000)\n",
    "    # b p4\n",
    "    p4s_b_from_t_p4 = helper.p4_from_pt_eta_phi_m(truth, \"MC_b_from_t\")\n",
    "    p4s_b_from_tbar_p4 = helper.p4_from_pt_eta_phi_m(truth, \"MC_b_from_tbar\")\n",
    "    # (llvv)\n",
    "    MC_Wdecay1_from_t_p4 = helper.p4_from_pt_eta_phi_m(truth, \"MC_Wdecay1_from_t\")\n",
    "    MC_Wdecay1_from_tbar_p4 = helper.p4_from_pt_eta_phi_m(truth, \"MC_Wdecay1_from_tbar\")\n",
    "    MC_Wdecay2_from_t_p4 = helper.p4_from_pt_eta_phi_m(truth, \"MC_Wdecay2_from_t\")\n",
    "    MC_Wdecay2_from_tbar_p4 = helper.p4_from_pt_eta_phi_m(truth, \"MC_Wdecay2_from_tbar\")\n",
    "    p4_sys = p4s_b_from_t_p4 + p4s_b_from_tbar_p4 + MC_Wdecay1_from_t_p4 + MC_Wdecay1_from_tbar_p4 + MC_Wdecay2_from_t_p4 + MC_Wdecay2_from_tbar_p4\n",
    "    m_bbllvv.Fill(p4_sys.M()/1000)\n"
   ]
  },
  {
   "cell_type": "code",
   "execution_count": 8,
   "metadata": {},
   "outputs": [
    {
     "data": {
      "image/png": "[encoded data removed]",
      "text/plain": [
       "<IPython.core.display.Image object>"
      ]
     },
     "metadata": {},
     "output_type": "display_data"
    }
   ],
   "source": [
    "c1 = TCanvas('c1', 'canvas1', 0, 0, 800, 600 )\n",
    "m_ttbar_before_FSR.SetLineColorAlpha(1, 1)\n",
    "m_ttbar_before_FSR.Draw(\"\")\n",
    "m_ttbar_after_FSR.SetLineColorAlpha(2, 1)\n",
    "m_ttbar_after_FSR.Draw(\"same\")\n",
    "m_bbllvv.SetLineColorAlpha(4,1 )\n",
    "m_bbllvv.Draw('same')\n",
    "\n",
    "\n",
    "# rp = TRatioPlot(m_bbllvv,m_ttbar_before_FSR)\n",
    "# rp.Draw()\n",
    "# rp.GetLowerRefYaxis().SetTitle(\"bbllvv/ttbar\")\n",
    "# rp.GetLowerRefYaxis().SetRangeUser(0.5,1.5)\n",
    "leg = TLegend(0.7,0.7,0.9,0.82)\n",
    "leg.AddEntry(m_ttbar_before_FSR,\"m_ttbar_before_FSR\",\"l\")\n",
    "leg.AddEntry(m_ttbar_after_FSR,\"m_ttbar_after_FSR\",\"l\")\n",
    "leg.AddEntry(m_bbllvv,\"m_bbllvv\",\"l\")\n",
    "leg.Draw()\n",
    "\n",
    "c1.Draw()"
   ]
  },
  {
   "cell_type": "markdown",
   "metadata": {},
   "source": [
    "## ratio plot"
   ]
  },
  {
   "cell_type": "code",
   "execution_count": 9,
   "metadata": {},
   "outputs": [],
   "source": [
    "# cvs, lgd, diffs = painter.create_standard_canvas_with_diff([m_ttbar_before_FSR,m_ttbar_after_FSR,m_bbllvv], 1, tags= [\"m_ttbar_before_FSR\",\"m_ttbar_after_FSR\",\"m_bbllvv\"], cms_cvs=True, logy=False, show_unity=True, show_error=True, xtitle=\"RL\", setx=[-3, 1], sety=[0, 80])\n",
    "# cvs.Draw()"
   ]
  },
  {
   "cell_type": "code",
   "execution_count": 10,
   "metadata": {},
   "outputs": [
    {
     "data": {
      "image/png": "[encoded data removed]",
      "text/plain": [
       "<IPython.core.display.Image object>"
      ]
     },
     "metadata": {},
     "output_type": "display_data"
    }
   ],
   "source": [
    "c = ROOT.TCanvas(\"c\", \"c\", 800, 600)\n",
    "# Divide the canvas into two pads: one for the upper plot, one for the lower plot\n",
    "pad1 = ROOT.TPad(\"pad1\", \"pad1\", 0, 0.3, 1, 1.0)\n",
    "pad1.SetBottomMargin(0)  # Remove the space between the plots\n",
    "pad1.Draw()\n",
    "pad1.cd()\n",
    "\n",
    "m_ttbar_before_FSR.Draw()\n",
    "m_bbllvv.Draw('same')\n",
    "\n",
    "\n",
    "# Lower plot\n",
    "c.cd()\n",
    "pad2 = ROOT.TPad(\"pad2\", \"pad2\", 0, 0.05, 1, 0.3)\n",
    "pad2.SetTopMargin(0)  # Remove the space between the plots\n",
    "pad2.SetBottomMargin(0.4)\n",
    "pad2.Draw()\n",
    "pad2.cd()\n",
    "gStyle.SetOptStat(0)\n",
    "\n",
    "\n",
    "ratio = m_bbllvv.Clone(\"ratio\")\n",
    "ratio.GetYaxis().SetRangeUser(0.5,1.5)\n",
    "ratio.GetXaxis().SetTitle(\"mass\")\n",
    "ratio.Divide(m_ttbar_before_FSR)\n",
    "ratio.Draw(\"\")\n",
    "\n",
    "ref = m_ttbar_before_FSR.Clone(\"ref\")\n",
    "ref.Divide(m_ttbar_before_FSR)\n",
    "ref.Draw(\"same\")\n",
    "c.Draw()"
   ]
  }
 ],
 "metadata": {
  "kernelspec": {
   "display_name": "Python 3",
   "language": "python",
   "name": "python3"
  },
  "language_info": {
   "codemirror_mode": {
    "name": "ipython",
    "version": 3
   },
   "file_extension": ".py",
   "mimetype": "text/x-python",
   "name": "python",
   "nbconvert_exporter": "python",
   "pygments_lexer": "ipython3",
   "version": "3.6.8"
  },
  "orig_nbformat": 4
 },
 "nbformat": 4,
 "nbformat_minor": 2
}
